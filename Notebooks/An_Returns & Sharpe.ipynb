{
 "cells": [
  {
   "cell_type": "markdown",
   "id": "5a95b118",
   "metadata": {
    "tags": []
   },
   "source": [
    "# Investors side \n",
    "### Average returns, and sharpe ratios"
   ]
  },
  {
   "cell_type": "code",
   "execution_count": 81,
   "id": "cdbc77f3",
   "metadata": {
    "tags": []
   },
   "outputs": [],
   "source": [
    "import pandas as pd\n",
    "import numpy as np\n",
    "import requests\n",
    "import datetime as dt\n",
    "import time\n",
    "import math\n",
    "from pypfopt import expected_returns, risk_models\n",
    "from sklearn.linear_model import LinearRegression\n",
    "import seaborn as sns\n",
    "import matplotlib.pyplot as plt"
   ]
  },
  {
   "cell_type": "code",
   "execution_count": 68,
   "id": "da5e6e91",
   "metadata": {},
   "outputs": [],
   "source": [
    "df1 = pd.read_excel('merged_final.xlsx')"
   ]
  },
  {
   "cell_type": "code",
   "execution_count": 69,
   "id": "eee42abb",
   "metadata": {},
   "outputs": [],
   "source": [
    "tick_ca = list(df1['ticker'][df1['asset_class'] == 'cryptoasset'])"
   ]
  },
  {
   "cell_type": "markdown",
   "id": "04896218-bf12-4d3e-bca7-1b3b730f9ef7",
   "metadata": {},
   "source": [
    "## IPOs\n",
    "## Function to compute returns given period windows"
   ]
  },
  {
   "cell_type": "code",
   "execution_count": 76,
   "id": "f3f04cc0-a604-454e-8e44-7ec87887d3cd",
   "metadata": {},
   "outputs": [],
   "source": [
    "#para\n",
    "list_period = [30,60,180,270,365]"
   ]
  },
  {
   "cell_type": "code",
   "execution_count": 77,
   "id": "352adf3c-5406-456f-81e3-04d6fc46c603",
   "metadata": {},
   "outputs": [],
   "source": [
    "adj = pd.read_excel('adj_close_664.xlsx')\n",
    "tick_ipo = list(df1['ticker'][df1['asset_class'] == 'IPO'])"
   ]
  },
  {
   "cell_type": "code",
   "execution_count": 78,
   "id": "7c8443e5-cdbb-4d17-8583-ccf97c564c62",
   "metadata": {},
   "outputs": [
    {
     "name": "stdout",
     "output_type": "stream",
     "text": [
      "The average return of IPOs after 30 days is 3.58%\n",
      "The average return of IPOs after 60 days is 5.77%\n",
      "The average return of IPOs after 180 days is 4.28%\n",
      "The average return of IPOs after 270 days is 6.82%\n",
      "The average return of IPOs after 365 days is 9.57%\n"
     ]
    }
   ],
   "source": [
    "## long term \n",
    "'''\n",
    "This function since only computes returns, is not working with dates as index.\n",
    "In case just change the ix+z with the timedelta function.\n",
    "'''\n",
    "total = []\n",
    "for z in list_period :\n",
    "\n",
    "    daysprices = pd.DataFrame()\n",
    "\n",
    "    for k in tick_ipo:\n",
    "        ix = adj[k].first_valid_index()\n",
    "    \n",
    "        temp = list(adj[k][ix:ix+z])\n",
    "        if len(temp)>=z:\n",
    "            daysprices[k] = temp\n",
    "    \n",
    "    \n",
    "    daysreturns = pd.DataFrame()\n",
    "#the try except is needed because of some problem with nan\n",
    "\n",
    "    for k in daysprices.columns:\n",
    "        ix = adj[k].first_valid_index()\n",
    "    \n",
    "        temp = list(adj[k][ix:ix+z])\n",
    "        if len(temp)<z:\n",
    "            temp = temp.append([np.nan] * (z-len(temp)))\n",
    "    \n",
    "        daysreturns[k] = temp\n",
    "        try:\n",
    "            #Uncomment only one \n",
    "            #daysreturns[k] = np.log(daysreturns[k]) - np.log(daysreturns[k].shift(1))\n",
    "            daysreturns[k] = daysreturns[k].pct_change(1)\n",
    "        except:\n",
    "            daysreturns[k] = [np.nan]*z\n",
    "        \n",
    "    returns_afterd =[]\n",
    "\n",
    "    for x in list(daysreturns.columns):\n",
    "        returns_afterd.append((1+daysreturns[x]).cumprod()[z-1]) \n",
    "\n",
    "    returns_afterd = [x for x in returns_afterd if math.isnan(x) == False]\n",
    "    average_ret = np.array(returns_afterd).mean()-1\n",
    "    print(\"The average return of IPOs after {} days is {}%\".format(z, round(average_ret*100,2)))\n",
    "    total.append(average_ret)"
   ]
  },
  {
   "cell_type": "markdown",
   "id": "e0306ab4-265f-4075-94a7-e1dcfde8f004",
   "metadata": {},
   "source": [
    "## Cryptoassets\n",
    "## Function to compute returns given period windows"
   ]
  },
  {
   "cell_type": "code",
   "execution_count": 180,
   "id": "e2f1e105-9988-4796-83f9-3a6a28980b60",
   "metadata": {},
   "outputs": [],
   "source": [
    "#para\n",
    "over = 'USD' # or 'BTC'\n",
    "out = '' #or use ' NOband' to use the excel file without the outlier BAND\n",
    "list_period = [30,60,90,180,270,365,480,600,720]"
   ]
  },
  {
   "cell_type": "code",
   "execution_count": 181,
   "id": "d4fbc6c9-0f64-4c18-9d81-0574b7bbb316",
   "metadata": {},
   "outputs": [],
   "source": [
    "df_ca = pd.read_excel('{}_final prices cryptossets (2021-07-16){}.xlsx'.format(over,out))\n",
    "tick_ca = list(df_ca.columns)[1:]"
   ]
  },
  {
   "cell_type": "code",
   "execution_count": 182,
   "id": "3c0a1824",
   "metadata": {},
   "outputs": [
    {
     "name": "stdout",
     "output_type": "stream",
     "text": [
      "The average return of cryptoassets over USD after 30 days is 1601.55%\n",
      "The average return of cryptoassets over USD after 60 days is 7604.68%\n",
      "The average return of cryptoassets over USD after 90 days is 4846.05%\n",
      "The average return of cryptoassets over USD after 180 days is 2134.68%\n",
      "The average return of cryptoassets over USD after 270 days is 665.88%\n",
      "The average return of cryptoassets over USD after 365 days is 632.14%\n",
      "The average return of cryptoassets over USD after 480 days is 282.37%\n",
      "The average return of cryptoassets over USD after 600 days is 594.77%\n",
      "The average return of cryptoassets over USD after 720 days is 1966.61%\n"
     ]
    }
   ],
   "source": [
    "## long term \n",
    "'''\n",
    "This function since only computes returns, is not working with dates as index.\n",
    "In case just change the ix+z with the timedelta function.\n",
    "'''\n",
    "total = []\n",
    "for z in list_period :\n",
    "\n",
    "    daysprices = pd.DataFrame()\n",
    "\n",
    "    for k in tick_ca:\n",
    "        ix = df_ca[k].first_valid_index()\n",
    "    \n",
    "        temp = list(df_ca[k][ix:ix+z])\n",
    "        if len(temp)>=z:\n",
    "            daysprices[k] = temp\n",
    "    \n",
    "    \n",
    "    daysreturns = pd.DataFrame()\n",
    "#the try except is needed because of some problem with nan\n",
    "\n",
    "    for k in daysprices.columns:\n",
    "        ix = df_ca[k].first_valid_index()\n",
    "    \n",
    "        temp = list(df_ca[k][ix:ix+z])\n",
    "        if len(temp)<z:\n",
    "            temp = temp.append([np.nan] * (z-len(temp)))\n",
    "    \n",
    "        daysreturns[k] = temp\n",
    "        try:\n",
    "        #Uncomment only one \n",
    "        #days60returns[k] = np.log(days60returns[k]) - np.log(days60returns[k].shift(1))\n",
    "            daysreturns[k] = daysreturns[k].pct_change(1)\n",
    "        except:\n",
    "            daysreturns[k] = [np.nan]*z\n",
    "        \n",
    "    returns_afterd =[]\n",
    "\n",
    "    for x in list(daysreturns.columns):\n",
    "        returns_afterd.append((1+daysreturns[x]).cumprod()[z-1]) \n",
    "\n",
    "    returns_afterd = [x for x in returns_afterd if math.isnan(x) == False]\n",
    "    average_ret = np.array(returns_afterd).mean()-1\n",
    "    print(\"The average return of cryptoassets over {} after {} days is {}%\".format(over ,z, round(average_ret*100,2)))\n",
    "    total.append(average_ret)"
   ]
  },
  {
   "cell_type": "code",
   "execution_count": null,
   "id": "cd7e27bf-6c4f-468a-9cef-248f28529cf1",
   "metadata": {},
   "outputs": [],
   "source": []
  },
  {
   "cell_type": "code",
   "execution_count": null,
   "id": "6df51a4c-6565-4f98-892a-fbb0510c47eb",
   "metadata": {},
   "outputs": [],
   "source": []
  },
  {
   "cell_type": "code",
   "execution_count": null,
   "id": "5664eddf-7d02-489b-a325-0fed20b31a7d",
   "metadata": {},
   "outputs": [],
   "source": []
  },
  {
   "cell_type": "markdown",
   "id": "4f4e92fc-8245-4db6-a618-9d6fbd6cb4fe",
   "metadata": {},
   "source": [
    "## Sharpe ratios"
   ]
  },
  {
   "cell_type": "code",
   "execution_count": 155,
   "id": "ed0b8198-b527-47f2-b516-4eabcff5dd23",
   "metadata": {},
   "outputs": [],
   "source": [
    "#para\n",
    "days = 30\n",
    "method = 'CAPM'"
   ]
  },
  {
   "cell_type": "code",
   "execution_count": 156,
   "id": "cd00cf3f-b7d8-48e4-8046-8049cf80d254",
   "metadata": {},
   "outputs": [],
   "source": [
    "df = pd.read_excel('merged_final.xlsx')\n",
    "adj = pd.read_excel('adj_close_664.xlsx')\n",
    "adj.set_index('Date', inplace = True)\n",
    "adj.index = pd.to_datetime(adj.index)"
   ]
  },
  {
   "cell_type": "code",
   "execution_count": 157,
   "id": "da290b48-4c33-4df6-89f8-6a9faa877f77",
   "metadata": {},
   "outputs": [],
   "source": [
    "df_ca = pd.read_excel('USD_final prices cryptossets (2021-07-16).xlsx')\n",
    "df_ca.set_index('dates', inplace = True)\n",
    "df_ca.index = pd.to_datetime(df_ca.index)"
   ]
  },
  {
   "cell_type": "code",
   "execution_count": 158,
   "id": "85226ca9-f12c-4468-b054-3ed32e476d54",
   "metadata": {},
   "outputs": [],
   "source": [
    "tick_ca  = list(df_ca.columns)\n",
    "tick_ipo = list(adj.columns)"
   ]
  },
  {
   "cell_type": "code",
   "execution_count": 159,
   "id": "992a6e80-593f-4388-857f-6818ea19ff38",
   "metadata": {},
   "outputs": [],
   "source": [
    "df_russell = pd.read_csv('TVC_RUA, 1D.csv')\n",
    "df_russell.set_index('time', inplace = True)\n",
    "df_russell.index = pd.to_datetime(df_russell.index)"
   ]
  },
  {
   "cell_type": "code",
   "execution_count": 160,
   "id": "0c6cf5b7-6dd1-45df-9ad9-f846ab038255",
   "metadata": {},
   "outputs": [],
   "source": [
    "df_mktcap = pd.read_csv('CRYPTOCAP_TOTAL, 1D.csv')\n",
    "df_mktcap.set_index('time', inplace = True)\n",
    "df_mktcap.index = pd.to_datetime(df_mktcap.index)"
   ]
  },
  {
   "cell_type": "code",
   "execution_count": 161,
   "id": "4f75cd89-be99-497e-9619-ac55e64008d4",
   "metadata": {},
   "outputs": [],
   "source": [
    "#Execute this cell ony if want to work with no outlier.\n",
    "df_ca = pd.read_excel('USD_final prices cryptossets (2021-07-16) NOband.xlsx')\n",
    "df_ca.set_index('dates', inplace = True)\n",
    "df_ca.index = pd.to_datetime(df_ca.index)\n",
    "tick_ca  = list(df_ca.columns)"
   ]
  },
  {
   "cell_type": "code",
   "execution_count": 162,
   "id": "265aeff0-faf4-41f8-895b-cca0d9c4bfb4",
   "metadata": {},
   "outputs": [],
   "source": [
    "dicty = dict(ticker = [], asset_class = [], method = [], expected_ret= [], std = [], sharpe_ratio = [])\n",
    "sharpedf = pd.DataFrame(dicty)"
   ]
  },
  {
   "cell_type": "code",
   "execution_count": 163,
   "id": "e37446ac-3654-4cc9-93f0-cf6b387123ca",
   "metadata": {},
   "outputs": [],
   "source": [
    "for i in df['ticker']:\n",
    "    \n",
    "    \n",
    "    if i in tick_ipo:\n",
    "        ix = adj[i].first_valid_index()\n",
    "        intervall = adj[i][ix:ix+ dt.timedelta(days)]\n",
    "                \n",
    "        if method == 'mean_hist':\n",
    "            mu = expected_returns.mean_historical_return(pd.DataFrame(intervall), frequency=days)\n",
    "        elif method == 'CAPM':\n",
    "            df_ = pd.DataFrame(adj[i][adj[i].first_valid_index():adj[i].first_valid_index()+ dt.timedelta(days)])\n",
    "            df_['mkt']= df_russell['close'][adj[i].first_valid_index():adj[i].first_valid_index()+ dt.timedelta(days)]\n",
    "            returns_df = df_.pct_change(1).dropna()\n",
    "            if len(returns_df[i]):\n",
    "        \n",
    "                x = np.array(returns_df[i]).reshape((-1,1))\n",
    "                y = np.array(returns_df['mkt'])\n",
    "                model = LinearRegression().fit(x, y)\n",
    "                mu = 0.01 + model.coef_*((df_['mkt'].pct_change(1) + 1).cumprod()[-1]-1 - 0.01)\n",
    "                #print('Beta = ', model.coef_)\n",
    "                \n",
    "        try:\n",
    "            \n",
    "            std = (intervall.pct_change(1)).std()\n",
    "            sharpe = float(mu)/ std                \n",
    "            classs = 'IPO'\n",
    "        except:\n",
    "            mu = 0\n",
    "            std =0\n",
    "            sharpe = 0\n",
    "            classs = 'error'\n",
    "        \n",
    "    elif i in tick_ca:       \n",
    "        ix= df_ca[i].first_valid_index()\n",
    "        intervall = df_ca[i][ix:ix+ dt.timedelta(days)]\n",
    "                \n",
    "        if method == 'mean_hist':\n",
    "            mu = expected_returns.mean_historical_return(pd.DataFrame(intervall), frequency=days)\n",
    "        elif method == 'CAPM':\n",
    "            df_ = pd.DataFrame(df_ca[i][df_ca[i].first_valid_index():df_ca[i].first_valid_index()+ dt.timedelta(days)])\n",
    "            df_['mkt']= df_mktcap['close'][df_ca[i].first_valid_index():df_ca[i].first_valid_index()+ dt.timedelta(days)]\n",
    "            returns_df = df_.pct_change(1).dropna()\n",
    "            if len(returns_df[i]) != 0:\n",
    "                x = np.array(returns_df[i]).reshape((-1,1))\n",
    "                y = np.array(returns_df['mkt'])\n",
    "                model = LinearRegression().fit(x, y)\n",
    "                mu = 0.01 + model.coef_*((df_['mkt'].pct_change(1) + 1).cumprod()[-1]-1 - 0.01)\n",
    "                #print('Beta = ', model.coef_)\n",
    "            \n",
    "        try:\n",
    "            \n",
    "            std = (intervall.pct_change(1)).std()\n",
    "            sharpe = float(mu)/ std                \n",
    "            classs = 'cryptoasset'\n",
    "        except:\n",
    "            mu = 0\n",
    "            std =0\n",
    "            sharpe = 0\n",
    "            classs = 'error'\n",
    "    else:\n",
    "        mu = 0\n",
    "        std= 0\n",
    "        sharpe = 0\n",
    "        classs = 'error'\n",
    "    #print(mu)\n",
    "    sharpedf = sharpedf.append({'ticker' : i,\n",
    "                                'asset_class': classs,\n",
    "                                'method' : method,\n",
    "                                'expected_ret' : float(mu),\n",
    "                                'std':std,\n",
    "                                'sharpe_ratio': sharpe}, ignore_index=True)\n",
    "    \n",
    "    \n",
    "\n"
   ]
  },
  {
   "cell_type": "code",
   "execution_count": 164,
   "id": "b2684a2c-002a-4bee-bd04-bdb3cd79a616",
   "metadata": {},
   "outputs": [
    {
     "data": {
      "text/html": [
       "<div>\n",
       "<style scoped>\n",
       "    .dataframe tbody tr th:only-of-type {\n",
       "        vertical-align: middle;\n",
       "    }\n",
       "\n",
       "    .dataframe tbody tr th {\n",
       "        vertical-align: top;\n",
       "    }\n",
       "\n",
       "    .dataframe thead th {\n",
       "        text-align: right;\n",
       "    }\n",
       "</style>\n",
       "<table border=\"1\" class=\"dataframe\">\n",
       "  <thead>\n",
       "    <tr style=\"text-align: right;\">\n",
       "      <th></th>\n",
       "      <th>expected_ret</th>\n",
       "      <th>std</th>\n",
       "      <th>sharpe_ratio</th>\n",
       "    </tr>\n",
       "  </thead>\n",
       "  <tbody>\n",
       "    <tr>\n",
       "      <th>count</th>\n",
       "      <td>256.000000</td>\n",
       "      <td>255.000000</td>\n",
       "      <td>255.000000</td>\n",
       "    </tr>\n",
       "    <tr>\n",
       "      <th>mean</th>\n",
       "      <td>0.012763</td>\n",
       "      <td>2.153559</td>\n",
       "      <td>0.111857</td>\n",
       "    </tr>\n",
       "    <tr>\n",
       "      <th>std</th>\n",
       "      <td>0.073588</td>\n",
       "      <td>18.579815</td>\n",
       "      <td>0.834675</td>\n",
       "    </tr>\n",
       "    <tr>\n",
       "      <th>min</th>\n",
       "      <td>-0.209171</td>\n",
       "      <td>0.011743</td>\n",
       "      <td>-3.340676</td>\n",
       "    </tr>\n",
       "    <tr>\n",
       "      <th>25%</th>\n",
       "      <td>-0.024533</td>\n",
       "      <td>0.090978</td>\n",
       "      <td>-0.189443</td>\n",
       "    </tr>\n",
       "    <tr>\n",
       "      <th>50%</th>\n",
       "      <td>0.009253</td>\n",
       "      <td>0.118410</td>\n",
       "      <td>0.046015</td>\n",
       "    </tr>\n",
       "    <tr>\n",
       "      <th>75%</th>\n",
       "      <td>0.040499</td>\n",
       "      <td>0.164273</td>\n",
       "      <td>0.333641</td>\n",
       "    </tr>\n",
       "    <tr>\n",
       "      <th>max</th>\n",
       "      <td>0.299466</td>\n",
       "      <td>203.114045</td>\n",
       "      <td>3.965551</td>\n",
       "    </tr>\n",
       "  </tbody>\n",
       "</table>\n",
       "</div>"
      ],
      "text/plain": [
       "       expected_ret         std  sharpe_ratio\n",
       "count    256.000000  255.000000    255.000000\n",
       "mean       0.012763    2.153559      0.111857\n",
       "std        0.073588   18.579815      0.834675\n",
       "min       -0.209171    0.011743     -3.340676\n",
       "25%       -0.024533    0.090978     -0.189443\n",
       "50%        0.009253    0.118410      0.046015\n",
       "75%        0.040499    0.164273      0.333641\n",
       "max        0.299466  203.114045      3.965551"
      ]
     },
     "execution_count": 164,
     "metadata": {},
     "output_type": "execute_result"
    }
   ],
   "source": [
    "sharpedf[sharpedf['asset_class'] == 'cryptoasset'].describe()"
   ]
  },
  {
   "cell_type": "code",
   "execution_count": 165,
   "id": "416a4098-80ec-424b-b679-83b3c9ce25e1",
   "metadata": {},
   "outputs": [
    {
     "data": {
      "text/html": [
       "<div>\n",
       "<style scoped>\n",
       "    .dataframe tbody tr th:only-of-type {\n",
       "        vertical-align: middle;\n",
       "    }\n",
       "\n",
       "    .dataframe tbody tr th {\n",
       "        vertical-align: top;\n",
       "    }\n",
       "\n",
       "    .dataframe thead th {\n",
       "        text-align: right;\n",
       "    }\n",
       "</style>\n",
       "<table border=\"1\" class=\"dataframe\">\n",
       "  <thead>\n",
       "    <tr style=\"text-align: right;\">\n",
       "      <th></th>\n",
       "      <th>expected_ret</th>\n",
       "      <th>std</th>\n",
       "      <th>sharpe_ratio</th>\n",
       "    </tr>\n",
       "  </thead>\n",
       "  <tbody>\n",
       "    <tr>\n",
       "      <th>count</th>\n",
       "      <td>668.000000</td>\n",
       "      <td>668.000000</td>\n",
       "      <td>668.000000</td>\n",
       "    </tr>\n",
       "    <tr>\n",
       "      <th>mean</th>\n",
       "      <td>0.010076</td>\n",
       "      <td>0.053368</td>\n",
       "      <td>0.398388</td>\n",
       "    </tr>\n",
       "    <tr>\n",
       "      <th>std</th>\n",
       "      <td>0.012986</td>\n",
       "      <td>0.081018</td>\n",
       "      <td>2.411406</td>\n",
       "    </tr>\n",
       "    <tr>\n",
       "      <th>min</th>\n",
       "      <td>-0.227657</td>\n",
       "      <td>0.001592</td>\n",
       "      <td>-34.980519</td>\n",
       "    </tr>\n",
       "    <tr>\n",
       "      <th>25%</th>\n",
       "      <td>0.009602</td>\n",
       "      <td>0.029820</td>\n",
       "      <td>0.157817</td>\n",
       "    </tr>\n",
       "    <tr>\n",
       "      <th>50%</th>\n",
       "      <td>0.010246</td>\n",
       "      <td>0.043432</td>\n",
       "      <td>0.232456</td>\n",
       "    </tr>\n",
       "    <tr>\n",
       "      <th>75%</th>\n",
       "      <td>0.011437</td>\n",
       "      <td>0.059639</td>\n",
       "      <td>0.341312</td>\n",
       "    </tr>\n",
       "    <tr>\n",
       "      <th>max</th>\n",
       "      <td>0.055582</td>\n",
       "      <td>1.260930</td>\n",
       "      <td>20.230157</td>\n",
       "    </tr>\n",
       "  </tbody>\n",
       "</table>\n",
       "</div>"
      ],
      "text/plain": [
       "       expected_ret         std  sharpe_ratio\n",
       "count    668.000000  668.000000    668.000000\n",
       "mean       0.010076    0.053368      0.398388\n",
       "std        0.012986    0.081018      2.411406\n",
       "min       -0.227657    0.001592    -34.980519\n",
       "25%        0.009602    0.029820      0.157817\n",
       "50%        0.010246    0.043432      0.232456\n",
       "75%        0.011437    0.059639      0.341312\n",
       "max        0.055582    1.260930     20.230157"
      ]
     },
     "execution_count": 165,
     "metadata": {},
     "output_type": "execute_result"
    }
   ],
   "source": [
    "sharpedf[sharpedf['asset_class'] == 'IPO'].describe()"
   ]
  },
  {
   "cell_type": "code",
   "execution_count": null,
   "id": "5e70b6d6-bf5a-4f03-a631-fd9f743ff94c",
   "metadata": {},
   "outputs": [],
   "source": []
  },
  {
   "cell_type": "code",
   "execution_count": null,
   "id": "e59fb37e-e306-436e-afb4-115a627f0227",
   "metadata": {},
   "outputs": [],
   "source": []
  },
  {
   "cell_type": "code",
   "execution_count": null,
   "id": "2f1b3048-7add-42de-9aad-c233e4a56027",
   "metadata": {},
   "outputs": [],
   "source": []
  },
  {
   "cell_type": "markdown",
   "id": "c695a6e8-a8d5-4b8b-8832-6b70781e7854",
   "metadata": {},
   "source": [
    "## plot sharpe distribution"
   ]
  },
  {
   "cell_type": "code",
   "execution_count": 167,
   "id": "f1b20f6e-dccd-41aa-b952-79d40668fdbc",
   "metadata": {},
   "outputs": [
    {
     "name": "stderr",
     "output_type": "stream",
     "text": [
      "/Users/matty/opt/anaconda3/lib/python3.8/site-packages/seaborn/distributions.py:2557: FutureWarning: `distplot` is a deprecated function and will be removed in a future version. Please adapt your code to use either `displot` (a figure-level function with similar flexibility) or `kdeplot` (an axes-level function for kernel density plots).\n",
      "  warnings.warn(msg, FutureWarning)\n",
      "/Users/matty/opt/anaconda3/lib/python3.8/site-packages/seaborn/distributions.py:2557: FutureWarning: `distplot` is a deprecated function and will be removed in a future version. Please adapt your code to use either `displot` (a figure-level function with similar flexibility) or `kdeplot` (an axes-level function for kernel density plots).\n",
      "  warnings.warn(msg, FutureWarning)\n"
     ]
    },
    {
     "data": {
      "image/png": "[encoded data removed]",
      "text/plain": [
       "<Figure size 720x360 with 1 Axes>"
      ]
     },
     "metadata": {
      "needs_background": "light"
     },
     "output_type": "display_data"
    }
   ],
   "source": [
    "plt.figure(figsize=(10,5))\n",
    "for k,i in [['cryptoasset','coral' ],['IPO', 'slategray']]:\n",
    "    \n",
    "    subset = sharpedf[sharpedf['asset_class']==k]\n",
    "    \n",
    "    # Draw the density plot\n",
    "    sns.distplot(subset['sharpe_ratio'], hist = False, kde = True,\n",
    "                 kde_kws = {'linewidth': 2.5, 'color' : i},\n",
    "                 label = k )\n",
    "# Plot formatting\n",
    "plt.legend()\n",
    "#plt.title('Density Plot ')\n",
    "plt.xlabel('Sharpe Ratio')\n",
    "plt.ylabel('Density')\n",
    "\n",
    "plt.savefig\n",
    "\n",
    "plt.savefig('images/Dist of Sharpe{} @ {} days.png'.format(method,days),  dpi=900,  transparent=True)\n",
    "plt.savefig('images/Dist of Sharpe{} @ {} days.jpeg'.format(method,days),  dpi=900)\n",
    "\n",
    "\n",
    "plt.show()"
   ]
  },
  {
   "cell_type": "code",
   "execution_count": null,
   "id": "0519d601-8c43-4b2c-8bf2-a193983949f8",
   "metadata": {},
   "outputs": [],
   "source": []
  },
  {
   "cell_type": "code",
   "execution_count": null,
   "id": "9c2c35f4-5a22-4ffa-8be0-a133ee3fa208",
   "metadata": {},
   "outputs": [],
   "source": []
  },
  {
   "cell_type": "markdown",
   "id": "4f69621c-217f-4def-9735-61940bba3cc3",
   "metadata": {},
   "source": [
    "### Markets returns"
   ]
  },
  {
   "cell_type": "code",
   "execution_count": 37,
   "id": "5aca59f1-9452-413d-8449-f8484d07b643",
   "metadata": {},
   "outputs": [],
   "source": [
    "std = df_russell['close']['2015':'2021'].pct_change(1).std()\n",
    "mu = expected_returns.mean_historical_return(pd.DataFrame(df_russell['close']['2020']), frequency=days)\n",
    "sharpe = (mu-0.01)/std"
   ]
  },
  {
   "cell_type": "code",
   "execution_count": 38,
   "id": "382fb464-a506-4b09-abc5-9b9e337982ab",
   "metadata": {},
   "outputs": [
    {
     "data": {
      "text/plain": [
       "close    0.060686\n",
       "dtype: float64"
      ]
     },
     "execution_count": 38,
     "metadata": {},
     "output_type": "execute_result"
    }
   ],
   "source": [
    "mu"
   ]
  },
  {
   "cell_type": "code",
   "execution_count": 39,
   "id": "ab85cdd1-28ec-442d-bbd2-f04f61f9dd1a",
   "metadata": {},
   "outputs": [
    {
     "name": "stdout",
     "output_type": "stream",
     "text": [
      "4.465\n"
     ]
    }
   ],
   "source": [
    "print(round(float(sharpe),3))"
   ]
  },
  {
   "cell_type": "code",
   "execution_count": 40,
   "id": "87e37394-56dc-461e-8fe5-21f45a84b092",
   "metadata": {},
   "outputs": [],
   "source": [
    "std = df_mktcap ['close']['2015':'2021'].pct_change(1).std()\n",
    "mu = expected_returns.mean_historical_return(pd.DataFrame(df_mktcap ['close']['2020']), frequency=days)\n",
    "sharpe = (mu-0.01)/std"
   ]
  },
  {
   "cell_type": "code",
   "execution_count": 41,
   "id": "5e6962e4-49ca-4515-ae2a-7c21e7351b20",
   "metadata": {},
   "outputs": [
    {
     "data": {
      "text/plain": [
       "close    0.414356\n",
       "dtype: float64"
      ]
     },
     "execution_count": 41,
     "metadata": {},
     "output_type": "execute_result"
    }
   ],
   "source": [
    "mu"
   ]
  },
  {
   "cell_type": "code",
   "execution_count": 42,
   "id": "ab005d48-80e5-452b-8024-e8e27c815fbd",
   "metadata": {},
   "outputs": [
    {
     "name": "stdout",
     "output_type": "stream",
     "text": [
      "9.799\n"
     ]
    }
   ],
   "source": [
    "print(round(float(sharpe),3))"
   ]
  },
  {
   "cell_type": "code",
   "execution_count": null,
   "id": "44218f77-1e9e-49d1-8002-252180d86ec9",
   "metadata": {},
   "outputs": [],
   "source": []
  },
  {
   "cell_type": "code",
   "execution_count": null,
   "id": "6aa22fe8-dd28-4aa7-99c6-7faa47782f27",
   "metadata": {},
   "outputs": [],
   "source": []
  }
 ],
 "metadata": {
  "kernelspec": {
   "display_name": "Python 3",
   "language": "python",
   "name": "python3"
  },
  "language_info": {
   "codemirror_mode": {
    "name": "ipython",
    "version": 3
   },
   "file_extension": ".py",
   "mimetype": "text/x-python",
   "name": "python",
   "nbconvert_exporter": "python",
   "pygments_lexer": "ipython3",
   "version": "3.8.8"
  }
 },
 "nbformat": 4,
 "nbformat_minor": 5
}
