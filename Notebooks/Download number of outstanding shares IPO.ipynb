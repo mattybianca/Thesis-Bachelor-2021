{
 "cells": [
  {
   "cell_type": "markdown",
   "metadata": {
    "tags": []
   },
   "source": [
    "# Total number of outstanding shares"
   ]
  },
  {
   "cell_type": "code",
   "execution_count": 41,
   "metadata": {},
   "outputs": [],
   "source": [
    "import pandas as pd\n",
    "from selenium import webdriver"
   ]
  },
  {
   "cell_type": "markdown",
   "metadata": {},
   "source": [
    "Get form yfinance outstanding shares"
   ]
  },
  {
   "cell_type": "code",
   "execution_count": 65,
   "metadata": {},
   "outputs": [],
   "source": [
    "df = pd.read_excel('merged_final.xlsx')"
   ]
  },
  {
   "cell_type": "code",
   "execution_count": 68,
   "metadata": {},
   "outputs": [],
   "source": [
    "tick = df['ticker'][df['asset_class'] == 'ipo']"
   ]
  },
  {
   "cell_type": "code",
   "execution_count": 52,
   "metadata": {},
   "outputs": [],
   "source": [
    "DRIVER_PATH = '/Users/matty/Downloads/chromedriver-2'"
   ]
  },
  {
   "cell_type": "code",
   "execution_count": 89,
   "metadata": {},
   "outputs": [],
   "source": [
    "empty = pd.DataFrame()\n",
    "for i in tick[13:18]:\n",
    "    try:\n",
    "        driver = webdriver.Chrome(executable_path=DRIVER_PATH)\n",
    "        driver.get('https://www.nasdaq.com/market-activity/stocks/{}/institutional-holdings'.format(i.lower()))\n",
    "        xpa = driver.find_element_by_xpath('/html/body/div[2]/div/main/div[2]/div[4]/div[3]/div/div[1]/div/div[1]/div[1]/div/div[2]/div/table/tbody/tr[2]/td[2]').get_attribute('innerHTML')\n",
    "        driver.close()\n",
    "    except:\n",
    "        xpa = 0\n",
    "        driver.close()\n",
    "    empty = empty.append([xpa])\n",
    "    "
   ]
  },
  {
   "cell_type": "code",
   "execution_count": 91,
   "metadata": {},
   "outputs": [],
   "source": [
    "empty.to_excel('total shares.xlsx')"
   ]
  }
 ],
 "metadata": {
  "kernelspec": {
   "display_name": "Python 3",
   "language": "python",
   "name": "python3"
  },
  "language_info": {
   "codemirror_mode": {
    "name": "ipython",
    "version": 3
   },
   "file_extension": ".py",
   "mimetype": "text/x-python",
   "name": "python",
   "nbconvert_exporter": "python",
   "pygments_lexer": "ipython3",
   "version": "3.8.8"
  }
 },
 "nbformat": 4,
 "nbformat_minor": 4
}
