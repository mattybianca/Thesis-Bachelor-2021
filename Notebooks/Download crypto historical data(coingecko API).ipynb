{
 "cells": [
  {
   "cell_type": "markdown",
   "id": "c1fa280e-23c2-4b37-b21c-0d3a912937e0",
   "metadata": {},
   "source": [
    "# Download historical cryptos data from Coingecko"
   ]
  },
  {
   "cell_type": "code",
   "execution_count": 1,
   "id": "a6119e66-e39f-44f3-b7a6-040a2809bf6c",
   "metadata": {
    "tags": []
   },
   "outputs": [],
   "source": [
    "import pandas as pd\n",
    "import numpy as np\n",
    "import requests\n",
    "import datetime as dt\n",
    "import time"
   ]
  },
  {
   "cell_type": "code",
   "execution_count": 2,
   "id": "6b025eeb-4422-41af-bd9b-4fb3fc33aad0",
   "metadata": {},
   "outputs": [],
   "source": [
    "df1 = pd.read_excel('merged_final.xlsx')"
   ]
  },
  {
   "cell_type": "code",
   "execution_count": 3,
   "id": "6a22b51a-ae8b-4629-99e4-46c52dc00bb9",
   "metadata": {},
   "outputs": [],
   "source": [
    "tick_ca = list(df1['ticker'][df1['asset_class'] == 'cryptoasset'])"
   ]
  },
  {
   "cell_type": "code",
   "execution_count": 4,
   "id": "417ce2f5-1384-4718-8a62-ac8a31718da1",
   "metadata": {},
   "outputs": [],
   "source": [
    "from pycoingecko import CoinGeckoAPI\n",
    "cg = CoinGeckoAPI()"
   ]
  },
  {
   "cell_type": "code",
   "execution_count": 5,
   "id": "ec27b051-d1d3-4b13-b838-d7d595288ea6",
   "metadata": {},
   "outputs": [],
   "source": [
    "dfgecko = pd.read_excel('list crypto coingecko.xlsx')"
   ]
  },
  {
   "cell_type": "markdown",
   "id": "7839c411-3dbd-455b-9cb7-4853bec7a51e",
   "metadata": {},
   "source": [
    "Importing an empty dataset with dates to add the crypto historical data indexed by dates"
   ]
  },
  {
   "cell_type": "code",
   "execution_count": 25,
   "id": "fbfaa356-1c13-45e6-8f6b-d01a1a7ea46c",
   "metadata": {},
   "outputs": [],
   "source": [
    "dat = pd.read_excel('dates for crypto.xlsx')\n",
    "pd.to_datetime(dat['dates'])\n",
    "dat.set_index('dates', inplace = True)"
   ]
  },
  {
   "cell_type": "markdown",
   "id": "4da66def-d8d4-4554-b7d6-c774e2fb780f",
   "metadata": {},
   "source": [
    "#### USD prices"
   ]
  },
  {
   "cell_type": "code",
   "execution_count": null,
   "id": "506e919b-8db8-478b-9efc-2b9023c8e01b",
   "metadata": {},
   "outputs": [],
   "source": [
    "for i in dfgecko['id']:\n",
    "    \n",
    "    tick = dfgecko['symbol'][dfgecko['id'] == i].to_list()\n",
    "    #print(tick[0])\n",
    "    ca = pd.DataFrame(cg.get_coin_market_chart_by_id(i,vs_currency = 'usd', days = '10000')['prices'])\n",
    "    ca.columns = ['dates (unix)', tick[0].upper()]\n",
    "    \n",
    "    #conversion to datetime\n",
    "    ca['dates'] = pd.to_datetime(ca['dates (unix)'],unit='ms').dt.floor('d')\n",
    "    ca.set_index('dates', inplace = True)\n",
    "    final_p = [np.nan]*(len(dat)-len(ca)) + list(ca[tick[0].upper()])\n",
    "    dat[tick[0].upper()] = final_p\n",
    "    time.sleep(2)\n",
    "#dat.to_excel('USD_final prices cryptossets (2021-07-16).xlsx')"
   ]
  },
  {
   "cell_type": "markdown",
   "id": "06b42cda-4a30-43b5-bdf4-b2a7c166b558",
   "metadata": {},
   "source": [
    "#### BTC prices"
   ]
  },
  {
   "cell_type": "code",
   "execution_count": 24,
   "id": "c4b09811-7cec-4993-a75e-914c79d33b8a",
   "metadata": {},
   "outputs": [],
   "source": [
    "\n",
    "for i in dfgecko['id']:\n",
    "    \n",
    "    tick = dfgecko['symbol'][dfgecko['id'] == i].to_list()\n",
    "    #print(tick[0])\n",
    "    ca = pd.DataFrame(cg.get_coin_market_chart_by_id(i,vs_currency = 'btc', days = '10000')['prices'])\n",
    "    ca.columns = ['dates (unix)', tick[0].upper()]\n",
    "    \n",
    "    #conversion to datetime\n",
    "    ca['dates'] = pd.to_datetime(ca['dates (unix)'],unit='ms').dt.floor('d')\n",
    "    ca.set_index('dates', inplace = True)\n",
    "    final_p = [np.nan]*(len(dat)-len(ca)) + list(ca[tick[0].upper()])\n",
    "    dat[tick[0].upper()] = final_p\n",
    "    time.sleep(2)\n",
    "#dat.to_excel('BTC_final prices cryptossets (2021-07-16).xlsx')"
   ]
  },
  {
   "cell_type": "markdown",
   "id": "ddd72701-b7c5-48e3-812a-50a2de765de9",
   "metadata": {},
   "source": [
    "uncomment the last row in the 2 cells above to create the excel files. Otherwise use the alredy present files."
   ]
  },
  {
   "cell_type": "code",
   "execution_count": null,
   "id": "f1e0b8d5-5a7f-4f94-9b06-e453e8db79ed",
   "metadata": {},
   "outputs": [],
   "source": []
  }
 ],
 "metadata": {
  "kernelspec": {
   "display_name": "Python 3",
   "language": "python",
   "name": "python3"
  },
  "language_info": {
   "codemirror_mode": {
    "name": "ipython",
    "version": 3
   },
   "file_extension": ".py",
   "mimetype": "text/x-python",
   "name": "python",
   "nbconvert_exporter": "python",
   "pygments_lexer": "ipython3",
   "version": "3.8.8"
  }
 },
 "nbformat": 4,
 "nbformat_minor": 5
}
