{
 "cells": [
  {
   "cell_type": "markdown",
   "id": "e05ba97b-793f-45c8-9e02-d7e20b5036b4",
   "metadata": {},
   "source": [
    "# Companies side\n",
    "### Classification with SVC and Logistic Regression"
   ]
  },
  {
   "cell_type": "code",
   "execution_count": 1,
   "id": "0e205c6d-cc66-43a3-bd0a-1592b2e49fa8",
   "metadata": {},
   "outputs": [],
   "source": [
    "import matplotlib.pyplot as plt\n",
    "from mpl_toolkits.mplot3d import Axes3D\n",
    "import numpy as np\n",
    "import pandas as pd\n",
    "import seaborn as sns"
   ]
  },
  {
   "cell_type": "code",
   "execution_count": 2,
   "id": "f015aa20-ed0e-4c86-9582-169c1e3aedca",
   "metadata": {},
   "outputs": [],
   "source": [
    "from sklearn import svm\n",
    "from sklearn.svm import SVC,LinearSVC\n",
    "from sklearn.datasets import make_moons\n",
    "from sklearn.preprocessing import PolynomialFeatures, StandardScaler, LabelEncoder\n",
    "from sklearn import metrics\n",
    "from sklearn.metrics import confusion_matrix, classification_report\n",
    "from sklearn.model_selection import train_test_split \n",
    "from sklearn.linear_model import LogisticRegression"
   ]
  },
  {
   "cell_type": "code",
   "execution_count": 3,
   "id": "9567e5b5-1c7e-44ed-aa8e-e62508e064b3",
   "metadata": {},
   "outputs": [],
   "source": [
    "df = pd.read_excel('merged_final.xlsx')\n",
    "#df.drop(['Unnamed: 8'],axis = 1, inplace = True)\n",
    "df.dropna(axis=0, inplace = True)\n",
    "#df"
   ]
  },
  {
   "cell_type": "code",
   "execution_count": 4,
   "id": "970c56b8-7ed0-4b2f-9fd7-bede3f707ee5",
   "metadata": {},
   "outputs": [],
   "source": [
    "df = df[df['raised_amount']<=2e8]"
   ]
  },
  {
   "cell_type": "code",
   "execution_count": 5,
   "id": "a86367f8-22b0-4ca0-acc3-c2e81d84dc62",
   "metadata": {},
   "outputs": [],
   "source": [
    "df['offering_ratio'] = df['offered_number']/df['total_number']"
   ]
  },
  {
   "cell_type": "code",
   "execution_count": 6,
   "id": "ee233588-765a-486d-880b-f8b3835569e0",
   "metadata": {},
   "outputs": [],
   "source": [
    "df['asset_class_ML'] = LabelEncoder().fit_transform(df['asset_class'])\n",
    "df['class_ML'] = LabelEncoder().fit_transform(df['class'])\n",
    "#df"
   ]
  },
  {
   "cell_type": "code",
   "execution_count": 7,
   "id": "2cf6baeb-e82c-4fc5-892b-fb66f9f70c37",
   "metadata": {},
   "outputs": [],
   "source": [
    "df_sel = df[['class_ML', 'raised_amount', 'offered_number', 'offering_ratio']]\n",
    "df_target = df['asset_class_ML']\n",
    "#1 for crypto 0 for IPO"
   ]
  },
  {
   "cell_type": "code",
   "execution_count": 8,
   "id": "e2127217-a1dd-4eb1-9d18-de36a8c4c43f",
   "metadata": {},
   "outputs": [],
   "source": [
    "X_train, X_test, y_train, y_test = train_test_split(df_sel, df_target, test_size=0.3,random_state=150)"
   ]
  },
  {
   "cell_type": "code",
   "execution_count": 9,
   "id": "59762cf8-4107-4df2-b539-1b7cec5c0216",
   "metadata": {},
   "outputs": [],
   "source": [
    "# modify here to set how the model should punish the missclissified value\n",
    "# hyper parameter C\n",
    "pen = 1e4"
   ]
  },
  {
   "cell_type": "code",
   "execution_count": 10,
   "id": "be27e100-d327-476c-8338-f3cf7a2928da",
   "metadata": {},
   "outputs": [
    {
     "data": {
      "text/plain": [
       "SVC(C=10000.0)"
      ]
     },
     "execution_count": 10,
     "metadata": {},
     "output_type": "execute_result"
    }
   ],
   "source": [
    "classifier = svm.SVC(kernel='rbf',C=pen)\n",
    "classifier.fit(X_train, y_train)"
   ]
  },
  {
   "cell_type": "code",
   "execution_count": 11,
   "id": "b8452ceb-3cd7-4873-9033-0ade66ec4d5f",
   "metadata": {},
   "outputs": [],
   "source": [
    "y_pred = classifier.predict(X_test)"
   ]
  },
  {
   "cell_type": "code",
   "execution_count": 12,
   "id": "e6153893-671a-47c0-b12d-65c1254ee9b5",
   "metadata": {},
   "outputs": [
    {
     "name": "stdout",
     "output_type": "stream",
     "text": [
      "Accuracy: 0.9261744966442953\n"
     ]
    }
   ],
   "source": [
    "print(\"Accuracy:\",metrics.accuracy_score(y_test, y_pred))"
   ]
  },
  {
   "cell_type": "code",
   "execution_count": 13,
   "id": "9d8ca471-ef6e-4a91-9bae-57fa610dfeba",
   "metadata": {},
   "outputs": [
    {
     "name": "stdout",
     "output_type": "stream",
     "text": [
      "===================\n",
      "size of testing set @ 30% of total size:   298\n",
      "size of training set @ 70% of total size:   693\n",
      "===================\n"
     ]
    }
   ],
   "source": [
    "print('===================')\n",
    "print('size of testing set @ 30% of total size:   {}'.format(len(X_test)))\n",
    "print('size of training set @ 70% of total size:   {}'.format(len(X_train)))\n",
    "print('===================')"
   ]
  },
  {
   "cell_type": "code",
   "execution_count": 14,
   "id": "ac3be604-8308-450d-8128-0f428f82f9d3",
   "metadata": {},
   "outputs": [
    {
     "data": {
      "image/png": "[encoded data removed]",
      "text/plain": [
       "<Figure size 432x288 with 2 Axes>"
      ]
     },
     "metadata": {
      "needs_background": "light"
     },
     "output_type": "display_data"
    },
    {
     "data": {
      "image/png": "[encoded data removed]",
      "text/plain": [
       "<Figure size 432x288 with 2 Axes>"
      ]
     },
     "metadata": {
      "needs_background": "light"
     },
     "output_type": "display_data"
    }
   ],
   "source": [
    "# Source https://scikit-learn.org/stable/auto_examples/model_selection/plot_confusion_matrix.html\n",
    "# adapted to my code\n",
    "\n",
    "np.set_printoptions(precision=2)\n",
    "\n",
    "titles_options = [(\"Confusion matrix SVM \", None),\n",
    "                  (\"Normalized confusion matrix SVM\", 'true')]\n",
    "for title, normalizer in titles_options:\n",
    "    \n",
    "    disp = metrics.plot_confusion_matrix(classifier, X_test, y_test,\n",
    "                                 display_labels=['Cryptoasset','IPO'],\n",
    "                                 cmap=plt.cm.Blues,\n",
    "                                 normalize=normalizer)\n",
    "    disp.ax_.set_title(title)\n",
    "    plt.savefig('images/{}.png'.format(title),  dpi=900,  transparent=True)\n",
    "    plt.savefig('images/{}.jpeg'.format(title),  dpi=900)\n",
    "    \n",
    "    \n",
    "\n",
    "plt.show()"
   ]
  },
  {
   "cell_type": "code",
   "execution_count": 15,
   "id": "40cf707e-3f22-4076-93cd-962adc4546cb",
   "metadata": {},
   "outputs": [],
   "source": [
    "Decision_Function = classifier.decision_function(X_test)\n",
    "#Decision_Function"
   ]
  },
  {
   "cell_type": "code",
   "execution_count": 16,
   "id": "eb5b62af-3755-476a-9ccc-452e8174eeb4",
   "metadata": {},
   "outputs": [
    {
     "data": {
      "text/plain": [
       "0.6957588067387601"
      ]
     },
     "execution_count": 16,
     "metadata": {},
     "output_type": "execute_result"
    }
   ],
   "source": [
    "classifier.intercept_[0]"
   ]
  },
  {
   "cell_type": "code",
   "execution_count": 17,
   "id": "71eb7430-f6a0-44b4-aae3-eb48f011b3fa",
   "metadata": {},
   "outputs": [],
   "source": [
    "#classifier.support_vectors_\n",
    "#classifier.decision_function(X_test)"
   ]
  },
  {
   "cell_type": "code",
   "execution_count": null,
   "id": "7d087db9-ae80-49a1-994f-c37bf261f119",
   "metadata": {},
   "outputs": [],
   "source": []
  },
  {
   "cell_type": "markdown",
   "id": "2e015e38-f918-4868-9b2d-f3a2af5e9196",
   "metadata": {},
   "source": [
    "### Logistic Regression"
   ]
  },
  {
   "cell_type": "code",
   "execution_count": 18,
   "id": "ffc4a51f-82c0-4d9c-95ed-aa4e74dc787c",
   "metadata": {},
   "outputs": [],
   "source": [
    "LogiR = LogisticRegression(C=1, random_state=0, solver='lbfgs', multi_class='ovr').fit(X_train, y_train)\n",
    "\n",
    "\n",
    "y_pred=LogiR.predict(X_test)"
   ]
  },
  {
   "cell_type": "code",
   "execution_count": 19,
   "id": "358997a0-d03a-4cbd-865a-d7db939cf77d",
   "metadata": {},
   "outputs": [
    {
     "data": {
      "image/png": "[encoded data removed]",
      "text/plain": [
       "<Figure size 432x288 with 2 Axes>"
      ]
     },
     "metadata": {
      "needs_background": "light"
     },
     "output_type": "display_data"
    },
    {
     "data": {
      "image/png": "[encoded data removed]",
      "text/plain": [
       "<Figure size 432x288 with 2 Axes>"
      ]
     },
     "metadata": {
      "needs_background": "light"
     },
     "output_type": "display_data"
    }
   ],
   "source": [
    "np.set_printoptions(precision=2)\n",
    "\n",
    "titles_options = [(\"Confusion matrix Logistic regression\", None),\n",
    "                  (\"Normalized confusion matrix Logistic regression\", 'true')]\n",
    "for title, normalizer in titles_options:\n",
    "    \n",
    "    disp = metrics.plot_confusion_matrix(LogiR, X_test, y_test,\n",
    "                                 display_labels=['Cryptoasset','IPO'],\n",
    "                                 cmap=plt.cm.Blues,\n",
    "                                 normalize=normalizer)\n",
    "    disp.ax_.set_title(title)\n",
    "    plt.savefig('images/{}.png'.format(title),  dpi=900,  transparent=True)\n",
    "    plt.savefig('images/{}.jpeg'.format(title),  dpi=900)\n",
    "    \n",
    "    \n",
    "\n",
    "plt.show()"
   ]
  }
 ],
 "metadata": {
  "kernelspec": {
   "display_name": "Python 3",
   "language": "python",
   "name": "python3"
  },
  "language_info": {
   "codemirror_mode": {
    "name": "ipython",
    "version": 3
   },
   "file_extension": ".py",
   "mimetype": "text/x-python",
   "name": "python",
   "nbconvert_exporter": "python",
   "pygments_lexer": "ipython3",
   "version": "3.8.8"
  }
 },
 "nbformat": 4,
 "nbformat_minor": 5
}
